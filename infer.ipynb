{
 "cells": [
  {
   "cell_type": "code",
   "execution_count": 1,
   "id": "f07cc15f",
   "metadata": {},
   "outputs": [
    {
     "name": "stderr",
     "output_type": "stream",
     "text": [
      "/home/jasoncheung/.virtualenvs/nl2sql/lib/python3.8/site-packages/fuzzywuzzy/fuzz.py:11: UserWarning: Using slow pure-python SequenceMatcher. Install python-Levenshtein to remove this warning\n",
      "  warnings.warn('Using slow pure-python SequenceMatcher. Install python-Levenshtein to remove this warning')\n"
     ]
    }
   ],
   "source": [
    "import torch\n",
    "from sqlnet.utils import *\n",
    "from sqlnet.model.sqlbert import SQLBert, BertAdam, BertTokenizer\n",
    "from torch.optim import Adam\n",
    "from sqlnet.lookahead import Lookahead\n",
    "import time\n",
    "\n",
    "import argparse"
   ]
  },
  {
   "cell_type": "code",
   "execution_count": 21,
   "id": "a5cce7a1",
   "metadata": {},
   "outputs": [],
   "source": [
    "parser = argparse.ArgumentParser()\n",
    "\n",
    "parser.add_argument('--gpu', action='store_true', help='Whether use gpu')\n",
    "parser.add_argument('--batch_size', type=int, default=12)\n",
    "\n",
    "parser.add_argument('--data_dir', type=str, default='../data/')\n",
    "parser.add_argument('--bert_model_dir', type=str, default='../model/chinese-bert_chinese_wwm_pytorch/')\n",
    "parser.add_argument('--restore_model_path', type=str, default='../model/saved_bert_model')\n",
    "parser.add_argument('--result_path', type=str,\n",
    "                    default='./result.json',\n",
    "                    help='Output path of prediction result')\n",
    "parser.add_argument('--local_eval', action='store_true')\n",
    "\n",
    "args = parser.parse_args(args=[])\n",
    "\n",
    "class nl2sql():\n",
    "    def __init__(self, \n",
    "                 bert_model_dir = args.bert_model_dir, \n",
    "                 best_model_path = args.restore_model_path, ):\n",
    "        self.bert_model_dir = bert_model_dir\n",
    "        self.best_model_path = best_model_path\n",
    "        self.model_init()\n",
    "    \n",
    "    def model_init(self,):\n",
    "        self.tokenizer = BertTokenizer.from_pretrained(self.bert_model_dir, do_lower_case=True)\n",
    "        self.model = SQLBert.from_pretrained(self.bert_model_dir)\n",
    "        print(\"Loading from %s\" % self.bert_model_dir)\n",
    "        self.model.load_state_dict(torch.load(self.best_model_path))\n",
    "        print(\"Loaded model from %s\" % self.best_model_path)\n",
    "        self.model.eval()\n",
    "    \n",
    "    def text2sql(self, sql_pred, table_id, table):\n",
    "        op_sql_dict = {0:\">\", 1:\"<\", 2:\"==\", 3:\"!=\"}\n",
    "        agg_sql_dict = {0:\"\", 1:\"AVG\", 2:\"MAX\", 3:\"MIN\", 4:\"COUNT\", 5:\"SUM\"}\n",
    "        conn_sql_dict = {0:\"\", 1:\"and\", 2:\"or\"}\n",
    "        agg = sql_pred['agg']\n",
    "        cond_conn_op = sql_pred['cond_conn_op']\n",
    "        sel = sql_pred['sel']\n",
    "        conds = sql_pred['conds']\n",
    "\n",
    "        res = []\n",
    "        for idx, i in enumerate(agg):\n",
    "\n",
    "            tmp_conds = []\n",
    "            for jdx, j in enumerate(conds):\n",
    "                if j[1] == 2 or j[1] == 3:\n",
    "                    # op_sql is '==' or '!='\n",
    "                    tmp_conds.append(str(table['header'][j[0]] + ' ' + op_sql_dict[j[1]] + ' \\'' + j[2] + '\\''))\n",
    "                else:\n",
    "                    tmp_conds.append(str(table['header'][j[0]] + ' ' + op_sql_dict[j[1]] + ' ' + j[2]))\n",
    "            tmp_where = (' ' + conn_sql_dict[cond_conn_op]+' ').join(tmp_conds)\n",
    "            if agg_sql_dict[i] != '':\n",
    "                tmp_res = 'select ' + agg_sql_dict[i] + '(' + table['header'][sel[idx]] + ') from ' + table_id + ' where ' + tmp_where\n",
    "            else:\n",
    "                tmp_res = 'select ' + table['header'][sel[idx]] + ' from ' + table_id + ' where ' + tmp_where\n",
    "            res.append(tmp_res)\n",
    "        return res\n",
    "\n",
    "    def predict(self, sql, table):\n",
    "        '''\n",
    "        tmp_sql_demo: [{'question': 'PE2011大于11或者EPS2011大于11的公司有哪些', 'table_id': '69d4941c334311e9aefd542696d6e445'}]\n",
    "        tmp_table_demo: {table_id: dict_keys(['rows', 'name', 'title', 'header', 'common', 'id', 'types'])}\n",
    "        '''\n",
    "        sql_data = [sql.copy()]\n",
    "        table_data = {table['id']: table.copy()}\n",
    "        \n",
    "        batch_size=1\n",
    "        perm = list(range(len(sql_data)))\n",
    "        pred_record = []\n",
    "        \n",
    "        # for st in tqdm(range(len(sql_data) // batch_size + 1)):  # delete +1 \n",
    "        for st in tqdm(range(len(sql_data) // batch_size)):\n",
    "            if st * batch_size == len(perm):\n",
    "                    break\n",
    "            ed = (st + 1) * batch_size if (st + 1) * batch_size < len(perm) else len(perm)\n",
    "            st = st * batch_size\n",
    "            with torch.no_grad():\n",
    "                    if isinstance(self.model, SQLBert):\n",
    "                            q_seq, col_seq, col_num, raw_q_seq, table_ids, header_type = to_batch_seq_test(sql_data, table_data, perm, st, ed, tokenizer=self.tokenizer)\n",
    "                            bert_inputs, q_lens, sel_col_nums, where_col_nums = gen_batch_bert_seq(self.tokenizer, q_seq, col_seq, header_type)\n",
    "                            score = self.model.forward(bert_inputs, return_logits=False)\n",
    "                            sql_preds = self.model.gen_query(score, q_seq, col_seq, sql_data, table_data, perm, st, ed)\n",
    "                    else:\n",
    "                            q_seq, col_seq, col_num, raw_q_seq, table_ids, header_type = to_batch_seq_test(sql_data, table_data, perm, st, ed)\n",
    "                            score = self.model.forward(q_seq, col_seq, col_num)\n",
    "                            sql_preds = self.model.gen_query(score, q_seq, col_seq, raw_q_seq)\n",
    "                    sql_preds = post_process(sql_preds, sql_data, table_data, perm, st, ed)\n",
    "            for sql_pred in sql_preds:\n",
    "                    sql_pred = eval(str(sql_pred))\n",
    "                    pred_record.append(sql_pred)\n",
    "                    \n",
    "        return pred_record[0]\n",
    "    \n",
    "    def infer(self, sql, table):\n",
    "        tmp = self.predict(sql, table)\n",
    "        res = self.text2sql(tmp, table['id'], table)\n",
    "        \n",
    "        return res\n",
    "        \n",
    "        \n"
   ]
  },
  {
   "cell_type": "code",
   "execution_count": 22,
   "id": "6b47e3f9",
   "metadata": {},
   "outputs": [],
   "source": [
    "table_data = {'rows': [['600340.SH',\n",
    "    '华夏幸福',\n",
    "    17.49,\n",
    "    1.54,\n",
    "    2.03,\n",
    "    2.67,\n",
    "    11.36,\n",
    "    8.61,\n",
    "    6.56,\n",
    "    'None',\n",
    "    'None',\n",
    "    5.8,\n",
    "    '推荐'],\n",
    "   ['000402.SZ',\n",
    "    '金融街',\n",
    "    6.53,\n",
    "    0.67,\n",
    "    0.78,\n",
    "    0.91,\n",
    "    9.8,\n",
    "    8.41,\n",
    "    7.2,\n",
    "    '10.66',\n",
    "    '-38.7',\n",
    "    1.0,\n",
    "    '谨慎推荐'],\n",
    "   ['600823.SH',\n",
    "    '世茂股份',\n",
    "    11.79,\n",
    "    1.01,\n",
    "    1.13,\n",
    "    1.39,\n",
    "    11.66,\n",
    "    10.4,\n",
    "    8.47,\n",
    "    '22.09',\n",
    "    '-46.6',\n",
    "    1.3,\n",
    "    '无'],\n",
    "   ['600716.SH',\n",
    "    '凤凰股份',\n",
    "    5.54,\n",
    "    0.32,\n",
    "    0.45,\n",
    "    0.66,\n",
    "    17.51,\n",
    "    12.45,\n",
    "    8.39,\n",
    "    '7.46',\n",
    "    '-25.8',\n",
    "    2.5,\n",
    "    '谨慎推荐'],\n",
    "   ['000608.SZ',\n",
    "    '阳光股份',\n",
    "    4.79,\n",
    "    0.23,\n",
    "    0.29,\n",
    "    0.32,\n",
    "    20.76,\n",
    "    16.31,\n",
    "    14.75,\n",
    "    '6.71',\n",
    "    '-28.7',\n",
    "    1.4,\n",
    "    '谨慎推荐'],\n",
    "   ['002285.SZ',\n",
    "    '世联地产',\n",
    "    15.07,\n",
    "    0.48,\n",
    "    0.84,\n",
    "    1.05,\n",
    "    31.27,\n",
    "    18.04,\n",
    "    14.34,\n",
    "    'None',\n",
    "    'None',\n",
    "    3.6,\n",
    "    '无']],\n",
    "  'name': 'Table_69d4941c334311e9aefd542696d6e445',\n",
    "  'title': '66 表3：2012年6月12日非住宅开发重点覆盖公司估值表 ',\n",
    "  'header': ['证券代码',\n",
    "   '公司名称',\n",
    "   '股价',\n",
    "   'EPS2011',\n",
    "   'EPS2012E',\n",
    "   'EPS2013E',\n",
    "   'PE2011',\n",
    "   'PE2012E',\n",
    "   'PE2013E',\n",
    "   'NAV',\n",
    "   '折价率',\n",
    "   'PB2012Q1',\n",
    "   '评级'],\n",
    "  'common': '资料来源：wind',\n",
    "  'id': '69d4941c334311e9aefd542696d6e445',\n",
    "  'types': ['text',\n",
    "   'text',\n",
    "   'real',\n",
    "   'real',\n",
    "   'real',\n",
    "   'real',\n",
    "   'real',\n",
    "   'real',\n",
    "   'real',\n",
    "   'real',\n",
    "   'real',\n",
    "   'real',\n",
    "   'text']}\n",
    "\n",
    "sql_data = {'question': 'PE2011大于11或者EPS2011大于11的公司有哪些', 'table_id': '69d4941c334311e9aefd542696d6e445'}"
   ]
  },
  {
   "cell_type": "code",
   "execution_count": 23,
   "id": "97da08f9",
   "metadata": {},
   "outputs": [
    {
     "name": "stdout",
     "output_type": "stream",
     "text": [
      "Loading from ../model/chinese-bert_chinese_wwm_pytorch/\n",
      "Loaded model from ../model/saved_bert_model\n"
     ]
    },
    {
     "name": "stderr",
     "output_type": "stream",
     "text": [
      "100%|██████████████████████████████████████████████████████| 1/1 [00:00<00:00,  8.45it/s]\n"
     ]
    },
    {
     "data": {
      "text/plain": [
       "['select 公司名称 from 69d4941c334311e9aefd542696d6e445 where EPS2011 > 11 or PE2011 > 11']"
      ]
     },
     "execution_count": 23,
     "metadata": {},
     "output_type": "execute_result"
    }
   ],
   "source": [
    "\n",
    "ns = nl2sql()\n",
    "ns.infer(sql_data, table_data)"
   ]
  },
  {
   "cell_type": "code",
   "execution_count": 26,
   "id": "edc17ebc",
   "metadata": {},
   "outputs": [
    {
     "data": {
      "text/plain": [
       "'/home/jasoncheung/project/work/nl2sql/code'"
      ]
     },
     "execution_count": 26,
     "metadata": {},
     "output_type": "execute_result"
    }
   ],
   "source": [
    "pwd"
   ]
  },
  {
   "cell_type": "code",
   "execution_count": 25,
   "id": "6524dd55",
   "metadata": {},
   "outputs": [
    {
     "name": "stdout",
     "output_type": "stream",
     "text": [
      "draft.py     result.json         start_train_bert.sh  train_bert.py\r\n",
      "infer.ipynb  \u001b[0m\u001b[01;34msqlnet\u001b[0m/             test_bert.py         train.ipynb\r\n",
      "README.md    start_test_bert.sh  test_ensemble.py     Untitled.ipynb\r\n"
     ]
    }
   ],
   "source": []
  }
 ],
 "metadata": {
  "kernelspec": {
   "display_name": "Python 3 (ipykernel)",
   "language": "python",
   "name": "python3"
  },
  "language_info": {
   "codemirror_mode": {
    "name": "ipython",
    "version": 3
   },
   "file_extension": ".py",
   "mimetype": "text/x-python",
   "name": "python",
   "nbconvert_exporter": "python",
   "pygments_lexer": "ipython3",
   "version": "3.8.5"
  }
 },
 "nbformat": 4,
 "nbformat_minor": 5
}
